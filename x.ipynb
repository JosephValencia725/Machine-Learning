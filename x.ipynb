{
  "nbformat": 4,
  "nbformat_minor": 0,
  "metadata": {
    "colab": {
      "provenance": [],
      "authorship_tag": "ABX9TyOsFjaCaxLxIoP/WNoY5WpT",
      "include_colab_link": true
    },
    "kernelspec": {
      "name": "python3",
      "display_name": "Python 3"
    },
    "language_info": {
      "name": "python"
    }
  },
  "cells": [
    {
      "cell_type": "markdown",
      "metadata": {
        "id": "view-in-github",
        "colab_type": "text"
      },
      "source": [
        "<a href=\"https://colab.research.google.com/github/JosephValencia725/Machine-Learning/blob/main/x.ipynb\" target=\"_parent\"><img src=\"https://colab.research.google.com/assets/colab-badge.svg\" alt=\"Open In Colab\"/></a>"
      ]
    },
    {
      "cell_type": "code",
      "execution_count": 1,
      "metadata": {
        "colab": {
          "base_uri": "https://localhost:8080/",
          "height": 1000
        },
        "id": "T6zQh34UpZBS",
        "outputId": "45cd5d33-1d6b-4b16-bd8b-f823bc2e5df3"
      },
      "outputs": [
        {
          "output_type": "stream",
          "name": "stdout",
          "text": [
            "Requirement already satisfied: tweepy in /usr/local/lib/python3.12/dist-packages (4.16.0)\n",
            "Requirement already satisfied: textblob in /usr/local/lib/python3.12/dist-packages (0.19.0)\n",
            "Requirement already satisfied: pyarrow in /usr/local/lib/python3.12/dist-packages (18.1.0)\n",
            "Requirement already satisfied: oauthlib<4,>=3.2.0 in /usr/local/lib/python3.12/dist-packages (from tweepy) (3.3.1)\n",
            "Requirement already satisfied: requests<3,>=2.27.0 in /usr/local/lib/python3.12/dist-packages (from tweepy) (2.32.4)\n",
            "Requirement already satisfied: requests-oauthlib<3,>=1.2.0 in /usr/local/lib/python3.12/dist-packages (from tweepy) (2.0.0)\n",
            "Requirement already satisfied: nltk>=3.9 in /usr/local/lib/python3.12/dist-packages (from textblob) (3.9.1)\n",
            "Requirement already satisfied: click in /usr/local/lib/python3.12/dist-packages (from nltk>=3.9->textblob) (8.2.1)\n",
            "Requirement already satisfied: joblib in /usr/local/lib/python3.12/dist-packages (from nltk>=3.9->textblob) (1.5.2)\n",
            "Requirement already satisfied: regex>=2021.8.3 in /usr/local/lib/python3.12/dist-packages (from nltk>=3.9->textblob) (2024.11.6)\n",
            "Requirement already satisfied: tqdm in /usr/local/lib/python3.12/dist-packages (from nltk>=3.9->textblob) (4.67.1)\n",
            "Requirement already satisfied: charset_normalizer<4,>=2 in /usr/local/lib/python3.12/dist-packages (from requests<3,>=2.27.0->tweepy) (3.4.3)\n",
            "Requirement already satisfied: idna<4,>=2.5 in /usr/local/lib/python3.12/dist-packages (from requests<3,>=2.27.0->tweepy) (3.10)\n",
            "Requirement already satisfied: urllib3<3,>=1.21.1 in /usr/local/lib/python3.12/dist-packages (from requests<3,>=2.27.0->tweepy) (2.5.0)\n",
            "Requirement already satisfied: certifi>=2017.4.17 in /usr/local/lib/python3.12/dist-packages (from requests<3,>=2.27.0->tweepy) (2025.8.3)\n",
            "Primeros tweets recolectados:\n",
            "               usuario                                              texto  \\\n",
            "0  1791496941559328768  3. XIX: giro anatomoclínico y estadístico.\\n4....   \n",
            "1  1377735877804326917  Goldman Sachs advierte que el gasto de capital...   \n",
            "2   920961873910075392  El próximo 8 de octubre se celebrará el evento...   \n",
            "3  1683066124689190913  @kallaico @PeculiarPi47155 @AVE_CyL @LaRegion ...   \n",
            "4           3164545831  @SancadillaNorte Que raro para @Pellomaldonado...   \n",
            "\n",
            "                      fecha  \n",
            "0 2025-09-14 13:48:06+00:00  \n",
            "1 2025-09-14 13:14:16+00:00  \n",
            "2 2025-09-14 10:00:01+00:00  \n",
            "3 2025-09-14 07:31:33+00:00  \n",
            "4 2025-09-14 05:01:02+00:00  \n",
            "\n",
            "✅ Tweets guardados en formato Parquet\n",
            "\n",
            "Tweets con análisis de sentimiento:\n",
            "               usuario                                              texto  \\\n",
            "0  1791496941559328768  3. XIX: giro anatomoclínico y estadístico.\\n4....   \n",
            "1  1377735877804326917  Goldman Sachs advierte que el gasto de capital...   \n",
            "2   920961873910075392  El próximo 8 de octubre se celebrará el evento...   \n",
            "3  1683066124689190913  @kallaico @PeculiarPi47155 @AVE_CyL @LaRegion ...   \n",
            "4           3164545831  @SancadillaNorte Que raro para @Pellomaldonado...   \n",
            "\n",
            "                      fecha sentimiento  \n",
            "0 2025-09-14 13:48:06+00:00      neutro  \n",
            "1 2025-09-14 13:14:16+00:00      neutro  \n",
            "2 2025-09-14 10:00:01+00:00    negativo  \n",
            "3 2025-09-14 07:31:33+00:00      neutro  \n",
            "4 2025-09-14 05:01:02+00:00      neutro  \n"
          ]
        },
        {
          "output_type": "display_data",
          "data": {
            "text/plain": [
              "<Figure size 640x480 with 1 Axes>"
            ],
            "image/png": "[encoded data removed]"
          },
          "metadata": {}
        }
      ],
      "source": [
        "# =======================================\n",
        "# 🚀 Análisis de Sentimientos en Twitter/X\n",
        "# Taller - Almacenamiento y Procesamiento en Big Data\n",
        "# =======================================\n",
        "\n",
        "!pip install tweepy textblob pyarrow\n",
        "\n",
        "import tweepy\n",
        "import pandas as pd\n",
        "from textblob import TextBlob\n",
        "import matplotlib.pyplot as plt\n",
        "\n",
        "# ==============================\n",
        "# 1. Autenticación con API v2\n",
        "# ==============================\n",
        "# 👉 Copia aquí tu BEARER TOKEN desde developer.x.com\n",
        "bearer_token = \"AAAAAAAAAAAAAAAAAAAAAHHJ4AEAAAAAgRwku5a0P0UrrsHq0fxB9W1QNDY%3D4kwnmFdMuIpdze1EyvVe1qaURD3G4Da4UAWKK3ENwxQUoPKy6F\"\n",
        "\n",
        "client = tweepy.Client(bearer_token=bearer_token)\n",
        "\n",
        "# ==============================\n",
        "# 2. Recolección de tweets\n",
        "# ==============================\n",
        "query = \"Big Data lang:es -is:retweet\"  # tweets en español, sin RT\n",
        "\n",
        "tweets = client.search_recent_tweets(\n",
        "    query=query,\n",
        "    max_results=50,\n",
        "    tweet_fields=[\"author_id\", \"created_at\", \"lang\"]\n",
        ")\n",
        "\n",
        "data = []\n",
        "for t in tweets.data:\n",
        "    data.append({\n",
        "        \"usuario\": t.author_id,\n",
        "        \"texto\": t.text,\n",
        "        \"fecha\": t.created_at\n",
        "    })\n",
        "\n",
        "df = pd.DataFrame(data)\n",
        "print(\"Primeros tweets recolectados:\")\n",
        "print(df.head())\n",
        "\n",
        "# ==============================\n",
        "# 3. Guardar en formato Parquet\n",
        "# ==============================\n",
        "df.to_parquet(\"tweets.parquet\", engine=\"pyarrow\", index=False)\n",
        "print(\"\\n✅ Tweets guardados en formato Parquet\")\n",
        "\n",
        "# ==============================\n",
        "# 4. Análisis de sentimientos\n",
        "# ==============================\n",
        "def analizar_sentimiento(texto):\n",
        "    analisis = TextBlob(texto)\n",
        "    if analisis.sentiment.polarity > 0:\n",
        "        return \"positivo\"\n",
        "    elif analisis.sentiment.polarity < 0:\n",
        "        return \"negativo\"\n",
        "    else:\n",
        "        return \"neutro\"\n",
        "\n",
        "df[\"sentimiento\"] = df[\"texto\"].apply(analizar_sentimiento)\n",
        "print(\"\\nTweets con análisis de sentimiento:\")\n",
        "print(df.head())\n",
        "\n",
        "# ==============================\n",
        "# 5. Visualización\n",
        "# ==============================\n",
        "conteo = df[\"sentimiento\"].value_counts()\n",
        "conteo.plot(kind=\"bar\", color=[\"green\", \"red\", \"gray\"])\n",
        "plt.title(\"Análisis de Sentimientos en Twitter\")\n",
        "plt.xlabel(\"Sentimiento\")\n",
        "plt.ylabel(\"Cantidad de Tweets\")\n",
        "plt.show()"
      ]
    }
  ]
}