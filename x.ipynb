{
  "nbformat": 4,
  "nbformat_minor": 0,
  "metadata": {
    "colab": {
      "provenance": [],
      "authorship_tag": "ABX9TyMZGhRUQXRKYd+hoI7xv96x",
      "include_colab_link": true
    },
    "kernelspec": {
      "name": "python3",
      "display_name": "Python 3"
    },
    "language_info": {
      "name": "python"
    }
  },
  "cells": [
    {
      "cell_type": "markdown",
      "metadata": {
        "id": "view-in-github",
        "colab_type": "text"
      },
      "source": [
        "<a href=\"https://colab.research.google.com/github/JosephValencia725/Machine-Learning/blob/main/x.ipynb\" target=\"_parent\"><img src=\"https://colab.research.google.com/assets/colab-badge.svg\" alt=\"Open In Colab\"/></a>"
      ]
    },
    {
      "cell_type": "code",
      "execution_count": 1,
      "metadata": {
        "colab": {
          "base_uri": "https://localhost:8080/",
          "height": 1000
        },
        "id": "T6zQh34UpZBS",
        "outputId": "8bbc54c7-6615-4956-8053-3316309f337a"
      },
      "outputs": [
        {
          "output_type": "stream",
          "name": "stdout",
          "text": [
            "Requirement already satisfied: tweepy in /usr/local/lib/python3.12/dist-packages (4.16.0)\n",
            "Requirement already satisfied: textblob in /usr/local/lib/python3.12/dist-packages (0.19.0)\n",
            "Requirement already satisfied: pyarrow in /usr/local/lib/python3.12/dist-packages (18.1.0)\n",
            "Requirement already satisfied: oauthlib<4,>=3.2.0 in /usr/local/lib/python3.12/dist-packages (from tweepy) (3.3.1)\n",
            "Requirement already satisfied: requests<3,>=2.27.0 in /usr/local/lib/python3.12/dist-packages (from tweepy) (2.32.4)\n",
            "Requirement already satisfied: requests-oauthlib<3,>=1.2.0 in /usr/local/lib/python3.12/dist-packages (from tweepy) (2.0.0)\n",
            "Requirement already satisfied: nltk>=3.9 in /usr/local/lib/python3.12/dist-packages (from textblob) (3.9.1)\n",
            "Requirement already satisfied: click in /usr/local/lib/python3.12/dist-packages (from nltk>=3.9->textblob) (8.2.1)\n",
            "Requirement already satisfied: joblib in /usr/local/lib/python3.12/dist-packages (from nltk>=3.9->textblob) (1.5.2)\n",
            "Requirement already satisfied: regex>=2021.8.3 in /usr/local/lib/python3.12/dist-packages (from nltk>=3.9->textblob) (2024.11.6)\n",
            "Requirement already satisfied: tqdm in /usr/local/lib/python3.12/dist-packages (from nltk>=3.9->textblob) (4.67.1)\n",
            "Requirement already satisfied: charset_normalizer<4,>=2 in /usr/local/lib/python3.12/dist-packages (from requests<3,>=2.27.0->tweepy) (3.4.3)\n",
            "Requirement already satisfied: idna<4,>=2.5 in /usr/local/lib/python3.12/dist-packages (from requests<3,>=2.27.0->tweepy) (3.10)\n",
            "Requirement already satisfied: urllib3<3,>=1.21.1 in /usr/local/lib/python3.12/dist-packages (from requests<3,>=2.27.0->tweepy) (2.5.0)\n",
            "Requirement already satisfied: certifi>=2017.4.17 in /usr/local/lib/python3.12/dist-packages (from requests<3,>=2.27.0->tweepy) (2025.8.3)\n",
            "Muestra de los tweets recolectados:\n",
            "            id_usuario                                          contenido  \\\n",
            "0  1791496941559328768  3. XIX: giro anatomoclínico y estadístico.\\n4....   \n",
            "1  1377735877804326917  Goldman Sachs advierte que el gasto de capital...   \n",
            "2   920961873910075392  El próximo 8 de octubre se celebrará el evento...   \n",
            "3  1683066124689190913  @kallaico @PeculiarPi47155 @AVE_CyL @LaRegion ...   \n",
            "4           3164545831  @SancadillaNorte Que raro para @Pellomaldonado...   \n",
            "\n",
            "                 fecha_hora  \n",
            "0 2025-09-14 13:48:06+00:00  \n",
            "1 2025-09-14 13:14:16+00:00  \n",
            "2 2025-09-14 10:00:01+00:00  \n",
            "3 2025-09-14 07:31:33+00:00  \n",
            "4 2025-09-14 05:01:02+00:00  \n",
            "\n",
            "✅ Datos guardados exitosamente en formato Parquet\n",
            "\n",
            "Tweets con clasificación de sentimientos:\n",
            "            id_usuario                                          contenido  \\\n",
            "0  1791496941559328768  3. XIX: giro anatomoclínico y estadístico.\\n4....   \n",
            "1  1377735877804326917  Goldman Sachs advierte que el gasto de capital...   \n",
            "2   920961873910075392  El próximo 8 de octubre se celebrará el evento...   \n",
            "3  1683066124689190913  @kallaico @PeculiarPi47155 @AVE_CyL @LaRegion ...   \n",
            "4           3164545831  @SancadillaNorte Que raro para @Pellomaldonado...   \n",
            "\n",
            "                 fecha_hora sentimiento  \n",
            "0 2025-09-14 13:48:06+00:00      neutro  \n",
            "1 2025-09-14 13:14:16+00:00      neutro  \n",
            "2 2025-09-14 10:00:01+00:00    negativo  \n",
            "3 2025-09-14 07:31:33+00:00      neutro  \n",
            "4 2025-09-14 05:01:02+00:00      neutro  \n"
          ]
        },
        {
          "output_type": "display_data",
          "data": {
            "text/plain": [
              "<Figure size 800x500 with 1 Axes>"
            ],
            "image/png": "[encoded data removed]"
          },
          "metadata": {}
        }
      ],
      "source": [
        "# =========================================\n",
        "# 🌟 Análisis de Sentimientos en Twitter/X\n",
        "# Taller de Procesamiento de Big Data\n",
        "# =========================================\n",
        "\n",
        "!pip install tweepy textblob pyarrow\n",
        "\n",
        "import tweepy\n",
        "import pandas as pd\n",
        "from textblob import TextBlob\n",
        "import matplotlib.pyplot as plt\n",
        "\n",
        "# ==============================\n",
        "# 1. Configuración de Autenticación con la API\n",
        "# ==============================\n",
        "# 🔑 Ingresa tu Bearer Token desde developer.x.com\n",
        "TOKEN_API = \"AAAAAAAAAAAAAAAAAAAAAHHJ4AEAAAAAgRwku5a0P0UrrsHq0fxB9W1QNDY%3D4kwnmFdMuIpdze1EyvVe1qaURD3G4Da4UAWKK3ENwxQUoPKy6F\"\n",
        "\n",
        "# Inicializar cliente de la API de Twitter/X\n",
        "cliente_api = tweepy.Client(bearer_token=TOKEN_API)\n",
        "\n",
        "# ==============================\n",
        "# 2. Obtención de Tweets\n",
        "# ==============================\n",
        "consulta = \"Big Data lang:es -is:retweet\"  # Tweets en español, sin retweets\n",
        "\n",
        "# Obtener tweets recientes\n",
        "respuesta = cliente_api.search_recent_tweets(\n",
        "    query=consulta,\n",
        "    max_results=50,\n",
        "    tweet_fields=[\"author_id\", \"created_at\", \"lang\"]\n",
        ")\n",
        "\n",
        "# Almacenar datos de los tweets\n",
        "lista_tweets = []\n",
        "for tweet in respuesta.data:\n",
        "    lista_tweets.append({\n",
        "        \"id_usuario\": tweet.author_id,\n",
        "        \"contenido\": tweet.text,\n",
        "        \"fecha_hora\": tweet.created_at\n",
        "    })\n",
        "\n",
        "# Convertir a DataFrame\n",
        "df_tweets = pd.DataFrame(lista_tweets)\n",
        "print(\"Muestra de los tweets recolectados:\")\n",
        "print(df_tweets.head())\n",
        "\n",
        "# ==============================\n",
        "# 3. Guardar en Formato Parquet\n",
        "# ==============================\n",
        "df_tweets.to_parquet(\"datos_tweets.parquet\", engine=\"pyarrow\", index=False)\n",
        "print(\"\\n✅ Datos guardados exitosamente en formato Parquet\")\n",
        "\n",
        "# ==============================\n",
        "# 4. Análisis de Sentimientos\n",
        "# ==============================\n",
        "def clasificar_sentimiento(texto):\n",
        "    polaridad = TextBlob(texto).sentiment.polarity\n",
        "    if polaridad > 0:\n",
        "        return \"positivo\"\n",
        "    elif polaridad < 0:\n",
        "        return \"negativo\"\n",
        "    else:\n",
        "        return \"neutro\"\n",
        "\n",
        "# Aplicar análisis de sentimientos\n",
        "df_tweets[\"sentimiento\"] = df_tweets[\"contenido\"].apply(clasificar_sentimiento)\n",
        "print(\"\\nTweets con clasificación de sentimientos:\")\n",
        "print(df_tweets.head())\n",
        "\n",
        "# ==============================\n",
        "# 5. Visualización de Resultados\n",
        "# ==============================\n",
        "# Contar sentimientos y generar gráfico de barras\n",
        "conteo_sentimientos = df_tweets[\"sentimiento\"].value_counts()\n",
        "\n",
        "# Crear gráfico\n",
        "plt.figure(figsize=(8, 5))\n",
        "conteo_sentimientos.plot(kind=\"bar\", color=[\"#28a745\", \"#dc3545\", \"#6c757d\"])\n",
        "plt.title(\"Distribución de Sentimientos en Tweets\")\n",
        "plt.xlabel(\"Sentimiento\")\n",
        "plt.ylabel(\"Número de Tweets\")\n",
        "plt.xticks(rotation=0)\n",
        "plt.tight_layout()\n",
        "plt.show()"
      ]
    }
  ]
}